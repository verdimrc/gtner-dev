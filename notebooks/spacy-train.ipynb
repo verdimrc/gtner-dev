{
 "cells": [
  {
   "cell_type": "markdown",
   "metadata": {},
   "source": [
    "<div style=\"font-size:250%; font-weight:bold\">Train NER with SpaCy</div>\n",
    "\n",
    "This notebook shows how to train a new NER model from scratch using the SpaCy library on Amazon SageMaker."
   ]
  },
  {
   "cell_type": "code",
   "execution_count": null,
   "metadata": {},
   "outputs": [],
   "source": [
    "!pip install --upgrade s3fs"
   ]
  },
  {
   "cell_type": "code",
   "execution_count": 1,
   "metadata": {},
   "outputs": [],
   "source": [
    "%matplotlib inline\n",
    "%config InlineBackend.figure_format = 'retina'\n",
    "%load_ext autoreload\n",
    "%autoreload 2\n",
    "\n",
    "import os\n",
    "import s3fs\n",
    "from gtner_blog.util import split"
   ]
  },
  {
   "cell_type": "code",
   "execution_count": 2,
   "metadata": {},
   "outputs": [],
   "source": [
    "# A few standard SageMaker stanzas\n",
    "\n",
    "import sagemaker\n",
    "\n",
    "# Strictly speaking, spacy does not depend on mxnet, tf, or pytorch, so we just\n",
    "# select mxnet as the base container for simplicity, plus a couple of more reasons:\n",
    "# - tf script mode does not support requirement_file=..., and it ignore source_dir/requirements.txt\n",
    "# - pytorch may hang when script produces lots of stdout.\n",
    "from sagemaker.mxnet import MXNet\n",
    "\n",
    "role: str = sagemaker.get_execution_role()\n",
    "sess = sagemaker.Session()\n",
    "region: str = sess.boto_session.region_name"
   ]
  },
  {
   "cell_type": "markdown",
   "metadata": {},
   "source": [
    "# Prepare data channels\n",
    "\n",
    "Split the whole corpus into train:test = 3:1 proportion, then upload the splits to S3."
   ]
  },
  {
   "cell_type": "code",
   "execution_count": 3,
   "metadata": {},
   "outputs": [
    {
     "data": {
      "text/plain": [
       "'s3://gtner-blog/gt/test-gtner-blog-004/manifests/output/output.iob'"
      ]
     },
     "metadata": {},
     "output_type": "display_data"
    },
    {
     "data": {
      "text/plain": [
       "'s3://gtner-blog/spacy-data/train'"
      ]
     },
     "metadata": {},
     "output_type": "display_data"
    },
    {
     "data": {
      "text/plain": [
       "'s3://gtner-blog/spacy-data/test'"
      ]
     },
     "metadata": {},
     "output_type": "display_data"
    }
   ],
   "source": [
    "bucket = 'gtner-blog'                # Change me as necessary\n",
    "gt_jobname = 'test-gtner-blog-004'   # Change me as necessary\n",
    "\n",
    "iob_file = f's3://{bucket}/gt/{gt_jobname}/manifests/output/output.iob'\n",
    "train = f's3://{bucket}/spacy-data/train'\n",
    "test = f's3://{bucket}/spacy-data/test'\n",
    "split(iob_file,\n",
    "      os.path.join(train, 'data.iob'),\n",
    "      os.path.join(test, 'data.iob'))\n",
    "\n",
    "display(iob_file, train, test)"
   ]
  },
  {
   "cell_type": "markdown",
   "metadata": {},
   "source": [
    "# Start training"
   ]
  },
  {
   "cell_type": "code",
   "execution_count": 4,
   "metadata": {},
   "outputs": [],
   "source": [
    "# NOTES: see spacy.cli.train for more hyperparameters. Do note that spacy-train.py forbids you\n",
    "# to set these hyperparameters: {\"lang\", \"pipeline\", \"output_path\", \"train_path\", \"dev_path\"}.\n",
    "estimator = MXNet(entry_point='spacy-train.py',\n",
    "                  source_dir='./spacy-scripts',\n",
    "                  role=role,\n",
    "                  train_instance_count=1,\n",
    "                  train_instance_type='ml.m5.large',\n",
    "                  framework_version='1.6.0',\n",
    "                  py_version='py3',\n",
    "                  debugger_hook_config=False,\n",
    "                  hyperparameters={'n_iter': 10})"
   ]
  },
  {
   "cell_type": "code",
   "execution_count": 5,
   "metadata": {},
   "outputs": [
    {
     "name": "stdout",
     "output_type": "stream",
     "text": [
      "2020-02-20 10:26:03 Starting - Starting the training job...\n",
      "2020-02-20 10:26:05 Starting - Launching requested ML instances......\n",
      "2020-02-20 10:27:04 Starting - Preparing the instances for training...\n",
      "2020-02-20 10:27:49 Downloading - Downloading input data...\n",
      "2020-02-20 10:28:34 Training - Training image download completed. Training in progress...\u001b[34m2020-02-20 10:28:35,390 sagemaker-containers INFO     Imported framework sagemaker_mxnet_container.training\u001b[0m\n",
      "\u001b[34m2020-02-20 10:28:35,393 sagemaker-containers INFO     No GPUs detected (normal if no gpus installed)\u001b[0m\n",
      "\u001b[34m2020-02-20 10:28:35,407 sagemaker_mxnet_container.training INFO     MXNet training environment: {'SM_HOSTS': '[\"algo-1\"]', 'SM_NETWORK_INTERFACE_NAME': 'eth0', 'SM_HPS': '{\"n_iter\":10}', 'SM_USER_ENTRY_POINT': 'spacy-train.py', 'SM_FRAMEWORK_PARAMS': '{}', 'SM_RESOURCE_CONFIG': '{\"current_host\":\"algo-1\",\"hosts\":[\"algo-1\"],\"network_interface_name\":\"eth0\"}', 'SM_INPUT_DATA_CONFIG': '{\"test\":{\"RecordWrapperType\":\"None\",\"S3DistributionType\":\"FullyReplicated\",\"TrainingInputMode\":\"File\"},\"train\":{\"RecordWrapperType\":\"None\",\"S3DistributionType\":\"FullyReplicated\",\"TrainingInputMode\":\"File\"}}', 'SM_OUTPUT_DATA_DIR': '/opt/ml/output/data', 'SM_CHANNELS': '[\"test\",\"train\"]', 'SM_CURRENT_HOST': 'algo-1', 'SM_MODULE_NAME': 'spacy-train', 'SM_LOG_LEVEL': '20', 'SM_FRAMEWORK_MODULE': 'sagemaker_mxnet_container.training:main', 'SM_INPUT_DIR': '/opt/ml/input', 'SM_INPUT_CONFIG_DIR': '/opt/ml/input/config', 'SM_OUTPUT_DIR': '/opt/ml/output', 'SM_NUM_CPUS': '2', 'SM_NUM_GPUS': '0', 'SM_MODEL_DIR': '/opt/ml/model', 'SM_MODULE_DIR': 's3://sagemaker-ap-southeast-1-484597657167/mxnet-training-2020-02-20-10-26-02-254/source/sourcedir.tar.gz', 'SM_TRAINING_ENV': '{\"additional_framework_parameters\":{},\"channel_input_dirs\":{\"test\":\"/opt/ml/input/data/test\",\"train\":\"/opt/ml/input/data/train\"},\"current_host\":\"algo-1\",\"framework_module\":\"sagemaker_mxnet_container.training:main\",\"hosts\":[\"algo-1\"],\"hyperparameters\":{\"n_iter\":10},\"input_config_dir\":\"/opt/ml/input/config\",\"input_data_config\":{\"test\":{\"RecordWrapperType\":\"None\",\"S3DistributionType\":\"FullyReplicated\",\"TrainingInputMode\":\"File\"},\"train\":{\"RecordWrapperType\":\"None\",\"S3DistributionType\":\"FullyReplicated\",\"TrainingInputMode\":\"File\"}},\"input_dir\":\"/opt/ml/input\",\"is_master\":true,\"job_name\":\"mxnet-training-2020-02-20-10-26-02-254\",\"log_level\":20,\"master_hostname\":\"algo-1\",\"model_dir\":\"/opt/ml/model\",\"module_dir\":\"s3://sagemaker-ap-southeast-1-484597657167/mxnet-training-2020-02-20-10-26-02-254/source/sourcedir.tar.gz\",\"module_name\":\"spacy-train\",\"network_interface_name\":\"eth0\",\"num_cpus\":2,\"num_gpus\":0,\"output_data_dir\":\"/opt/ml/output/data\",\"output_dir\":\"/opt/ml/output\",\"output_intermediate_dir\":\"/opt/ml/output/intermediate\",\"resource_config\":{\"current_host\":\"algo-1\",\"hosts\":[\"algo-1\"],\"network_interface_name\":\"eth0\"},\"user_entry_point\":\"spacy-train.py\"}', 'SM_USER_ARGS': '[\"--n_iter\",\"10\"]', 'SM_OUTPUT_INTERMEDIATE_DIR': '/opt/ml/output/intermediate', 'SM_CHANNEL_TEST': '/opt/ml/input/data/test', 'SM_CHANNEL_TRAIN': '/opt/ml/input/data/train', 'SM_HP_N_ITER': '10'}\u001b[0m\n",
      "\u001b[34m2020-02-20 10:28:35,622 sagemaker-containers INFO     Module default_user_module_name does not provide a setup.py. \u001b[0m\n",
      "\u001b[34mGenerating setup.py\u001b[0m\n",
      "\u001b[34m2020-02-20 10:28:35,622 sagemaker-containers INFO     Generating setup.cfg\u001b[0m\n",
      "\u001b[34m2020-02-20 10:28:35,623 sagemaker-containers INFO     Generating MANIFEST.in\u001b[0m\n",
      "\u001b[34m2020-02-20 10:28:35,623 sagemaker-containers INFO     Installing module with the following command:\u001b[0m\n",
      "\u001b[34m/usr/local/bin/python3.6 -m pip install . -r requirements.txt\u001b[0m\n",
      "\u001b[34mProcessing /tmp/tmpvf38edyg/module_dir\u001b[0m\n",
      "\u001b[34mCollecting spacy\n",
      "  Downloading https://files.pythonhosted.org/packages/47/13/80ad28ef7a16e2a86d16d73e28588be5f1085afd3e85e4b9b912bd700e8a/spacy-2.2.3-cp36-cp36m-manylinux1_x86_64.whl (10.4MB)\u001b[0m\n",
      "\u001b[34mCollecting en-core-web-sm-mirror\n",
      "  Downloading https://files.pythonhosted.org/packages/26/25/7a59d00a31ecf02a81601b7022cfacee9dbe74ac7307c20ef5de6b58c575/en_core_web_sm_mirror-2.2.5-py3-none-any.whl (12.0MB)\u001b[0m\n",
      "\u001b[34mCollecting murmurhash<1.1.0,>=0.28.0\n",
      "  Downloading https://files.pythonhosted.org/packages/a6/e6/63f160a4fdf0e875d16b28f972083606d8d54f56cd30cb8929f9a1ee700e/murmurhash-1.0.2-cp36-cp36m-manylinux1_x86_64.whl\u001b[0m\n",
      "\u001b[34mCollecting blis<0.5.0,>=0.4.0\n",
      "  Downloading https://files.pythonhosted.org/packages/41/19/f95c75562d18eb27219df3a3590b911e78d131b68466ad79fdf5847eaac4/blis-0.4.1-cp36-cp36m-manylinux1_x86_64.whl (3.7MB)\u001b[0m\n",
      "\u001b[34mCollecting catalogue<1.1.0,>=0.0.7\n",
      "  Downloading https://files.pythonhosted.org/packages/6c/f9/9a5658e2f56932e41eb264941f9a2cb7f3ce41a80cb36b2af6ab78e2f8af/catalogue-1.0.0-py2.py3-none-any.whl\u001b[0m\n",
      "\u001b[34mCollecting cymem<2.1.0,>=2.0.2\n",
      "  Downloading https://files.pythonhosted.org/packages/e7/b5/3e1714ebda8fd7c5859f9b216e381adc0a38b962f071568fd00d67e1b1ca/cymem-2.0.3-cp36-cp36m-manylinux1_x86_64.whl\u001b[0m\n",
      "\u001b[34mCollecting srsly<1.1.0,>=0.1.0\n",
      "  Downloading https://files.pythonhosted.org/packages/4f/96/3350d3fa0cfa2b2ff341113d60b5bfe0ab8dd0e6b6b2c8b12157b4eb3000/srsly-1.0.1-cp36-cp36m-manylinux1_x86_64.whl (185kB)\u001b[0m\n",
      "\u001b[34mRequirement already satisfied: setuptools in /usr/local/lib/python3.6/site-packages (from spacy->-r requirements.txt (line 1)) (45.0.0)\u001b[0m\n",
      "\u001b[34mRequirement already satisfied: requests<3.0.0,>=2.13.0 in /usr/local/lib/python3.6/site-packages (from spacy->-r requirements.txt (line 1)) (2.22.0)\u001b[0m\n",
      "\u001b[34mCollecting wasabi<1.1.0,>=0.4.0\n",
      "  Downloading https://files.pythonhosted.org/packages/21/e1/e4e7b754e6be3a79c400eb766fb34924a6d278c43bb828f94233e0124a21/wasabi-0.6.0-py3-none-any.whl\u001b[0m\n",
      "\u001b[34mCollecting thinc<7.4.0,>=7.3.0\n",
      "  Downloading https://files.pythonhosted.org/packages/07/59/6bb553bc9a5f072d3cd479fc939fea0f6f682892f1f5cff98de5c9b615bb/thinc-7.3.1-cp36-cp36m-manylinux1_x86_64.whl (2.2MB)\u001b[0m\n",
      "\u001b[34mRequirement already satisfied: numpy>=1.15.0 in /usr/local/lib/python3.6/site-packages (from spacy->-r requirements.txt (line 1)) (1.17.2)\u001b[0m\n",
      "\u001b[34mCollecting preshed<3.1.0,>=3.0.2\n",
      "  Downloading https://files.pythonhosted.org/packages/db/6b/e07fad36913879757c90ba03d6fb7f406f7279e11dcefc105ee562de63ea/preshed-3.0.2-cp36-cp36m-manylinux1_x86_64.whl (119kB)\u001b[0m\n",
      "\u001b[34mCollecting plac<1.2.0,>=0.9.6\n",
      "  Downloading https://files.pythonhosted.org/packages/86/85/40b8f66c2dd8f4fd9f09d59b22720cffecf1331e788b8a0cab5bafb353d1/plac-1.1.3-py2.py3-none-any.whl\u001b[0m\n",
      "\u001b[34mCollecting importlib-metadata>=0.20; python_version < \"3.8\"\n",
      "  Downloading https://files.pythonhosted.org/packages/8b/03/a00d504808808912751e64ccf414be53c29cad620e3de2421135fcae3025/importlib_metadata-1.5.0-py2.py3-none-any.whl\u001b[0m\n",
      "\u001b[34mRequirement already satisfied: urllib3!=1.25.0,!=1.25.1,<1.26,>=1.21.1 in /usr/local/lib/python3.6/site-packages (from requests<3.0.0,>=2.13.0->spacy->-r requirements.txt (line 1)) (1.24)\u001b[0m\n",
      "\u001b[34mRequirement already satisfied: certifi>=2017.4.17 in /usr/local/lib/python3.6/site-packages (from requests<3.0.0,>=2.13.0->spacy->-r requirements.txt (line 1)) (2019.11.28)\u001b[0m\n",
      "\u001b[34mRequirement already satisfied: idna<2.9,>=2.5 in /usr/local/lib/python3.6/site-packages (from requests<3.0.0,>=2.13.0->spacy->-r requirements.txt (line 1)) (2.8)\u001b[0m\n",
      "\u001b[34mRequirement already satisfied: chardet<3.1.0,>=3.0.2 in /usr/local/lib/python3.6/site-packages (from requests<3.0.0,>=2.13.0->spacy->-r requirements.txt (line 1)) (3.0.4)\u001b[0m\n",
      "\u001b[34mRequirement already satisfied: tqdm<5.0.0,>=4.10.0 in /usr/local/lib/python3.6/site-packages (from thinc<7.4.0,>=7.3.0->spacy->-r requirements.txt (line 1)) (4.39.0)\u001b[0m\n",
      "\u001b[34mCollecting zipp>=0.5\n",
      "  Downloading https://files.pythonhosted.org/packages/6f/6d/a55f6e81ac213942b9a19cbc05b560c726c3e16f8fb17555f059c17d65f2/zipp-3.0.0-py3-none-any.whl\u001b[0m\n",
      "\u001b[34mInstalling collected packages: murmurhash, blis, zipp, importlib-metadata, catalogue, cymem, srsly, wasabi, plac, preshed, thinc, spacy, en-core-web-sm-mirror, default-user-module-name\u001b[0m\n",
      "\u001b[34m    Running setup.py install for default-user-module-name: started\n",
      "    Running setup.py install for default-user-module-name: finished with status 'done'\u001b[0m\n",
      "\u001b[34mSuccessfully installed blis-0.4.1 catalogue-1.0.0 cymem-2.0.3 default-user-module-name-1.0.0 en-core-web-sm-mirror-2.2.5 importlib-metadata-1.5.0 murmurhash-1.0.2 plac-1.1.3 preshed-3.0.2 spacy-2.2.3 srsly-1.0.1 thinc-7.3.1 wasabi-0.6.0 zipp-3.0.0\u001b[0m\n",
      "\u001b[34mWARNING: You are using pip version 19.3.1; however, version 20.0.2 is available.\u001b[0m\n",
      "\u001b[34mYou should consider upgrading via the 'pip install --upgrade pip' command.\u001b[0m\n",
      "\u001b[34m2020-02-20 10:28:40,782 sagemaker-containers INFO     No GPUs detected (normal if no gpus installed)\u001b[0m\n",
      "\u001b[34m2020-02-20 10:28:40,797 sagemaker-containers INFO     No GPUs detected (normal if no gpus installed)\u001b[0m\n",
      "\u001b[34m2020-02-20 10:28:40,811 sagemaker-containers INFO     No GPUs detected (normal if no gpus installed)\u001b[0m\n",
      "\u001b[34m2020-02-20 10:28:40,823 sagemaker-containers INFO     Invoking user script\n",
      "\u001b[0m\n",
      "\u001b[34mTraining Env:\n",
      "\u001b[0m\n",
      "\u001b[34m{\n",
      "    \"additional_framework_parameters\": {},\n",
      "    \"channel_input_dirs\": {\n",
      "        \"test\": \"/opt/ml/input/data/test\",\n",
      "        \"train\": \"/opt/ml/input/data/train\"\n",
      "    },\n",
      "    \"current_host\": \"algo-1\",\n",
      "    \"framework_module\": \"sagemaker_mxnet_container.training:main\",\n",
      "    \"hosts\": [\n",
      "        \"algo-1\"\n",
      "    ],\n",
      "    \"hyperparameters\": {\n",
      "        \"n_iter\": 10\n",
      "    },\n",
      "    \"input_config_dir\": \"/opt/ml/input/config\",\n",
      "    \"input_data_config\": {\n",
      "        \"test\": {\n",
      "            \"TrainingInputMode\": \"File\",\n",
      "            \"S3DistributionType\": \"FullyReplicated\",\n",
      "            \"RecordWrapperType\": \"None\"\n",
      "        },\n",
      "        \"train\": {\n",
      "            \"TrainingInputMode\": \"File\",\n",
      "            \"S3DistributionType\": \"FullyReplicated\",\n",
      "            \"RecordWrapperType\": \"None\"\n",
      "        }\n",
      "    },\n",
      "    \"input_dir\": \"/opt/ml/input\",\n",
      "    \"is_master\": true,\n",
      "    \"job_name\": \"mxnet-training-2020-02-20-10-26-02-254\",\n",
      "    \"log_level\": 20,\n",
      "    \"master_hostname\": \"algo-1\",\n",
      "    \"model_dir\": \"/opt/ml/model\",\n",
      "    \"module_dir\": \"s3://sagemaker-ap-southeast-1-484597657167/mxnet-training-2020-02-20-10-26-02-254/source/sourcedir.tar.gz\",\n",
      "    \"module_name\": \"spacy-train\",\n",
      "    \"network_interface_name\": \"eth0\",\n",
      "    \"num_cpus\": 2,\n",
      "    \"num_gpus\": 0,\n",
      "    \"output_data_dir\": \"/opt/ml/output/data\",\n",
      "    \"output_dir\": \"/opt/ml/output\",\n",
      "    \"output_intermediate_dir\": \"/opt/ml/output/intermediate\",\n",
      "    \"resource_config\": {\n",
      "        \"current_host\": \"algo-1\",\n",
      "        \"hosts\": [\n",
      "            \"algo-1\"\n",
      "        ],\n",
      "        \"network_interface_name\": \"eth0\"\n",
      "    },\n",
      "    \"user_entry_point\": \"spacy-train.py\"\u001b[0m\n",
      "\u001b[34m}\n",
      "\u001b[0m\n",
      "\u001b[34mEnvironment variables:\n",
      "\u001b[0m\n",
      "\u001b[34mSM_HOSTS=[\"algo-1\"]\u001b[0m\n",
      "\u001b[34mSM_NETWORK_INTERFACE_NAME=eth0\u001b[0m\n",
      "\u001b[34mSM_HPS={\"n_iter\":10}\u001b[0m\n",
      "\u001b[34mSM_USER_ENTRY_POINT=spacy-train.py\u001b[0m\n",
      "\u001b[34mSM_FRAMEWORK_PARAMS={}\u001b[0m\n",
      "\u001b[34mSM_RESOURCE_CONFIG={\"current_host\":\"algo-1\",\"hosts\":[\"algo-1\"],\"network_interface_name\":\"eth0\"}\u001b[0m\n",
      "\u001b[34mSM_INPUT_DATA_CONFIG={\"test\":{\"RecordWrapperType\":\"None\",\"S3DistributionType\":\"FullyReplicated\",\"TrainingInputMode\":\"File\"},\"train\":{\"RecordWrapperType\":\"None\",\"S3DistributionType\":\"FullyReplicated\",\"TrainingInputMode\":\"File\"}}\u001b[0m\n",
      "\u001b[34mSM_OUTPUT_DATA_DIR=/opt/ml/output/data\u001b[0m\n",
      "\u001b[34mSM_CHANNELS=[\"test\",\"train\"]\u001b[0m\n",
      "\u001b[34mSM_CURRENT_HOST=algo-1\u001b[0m\n",
      "\u001b[34mSM_MODULE_NAME=spacy-train\u001b[0m\n",
      "\u001b[34mSM_LOG_LEVEL=20\u001b[0m\n",
      "\u001b[34mSM_FRAMEWORK_MODULE=sagemaker_mxnet_container.training:main\u001b[0m\n",
      "\u001b[34mSM_INPUT_DIR=/opt/ml/input\u001b[0m\n",
      "\u001b[34mSM_INPUT_CONFIG_DIR=/opt/ml/input/config\u001b[0m\n",
      "\u001b[34mSM_OUTPUT_DIR=/opt/ml/output\u001b[0m\n",
      "\u001b[34mSM_NUM_CPUS=2\u001b[0m\n",
      "\u001b[34mSM_NUM_GPUS=0\u001b[0m\n",
      "\u001b[34mSM_MODEL_DIR=/opt/ml/model\u001b[0m\n",
      "\u001b[34mSM_MODULE_DIR=s3://sagemaker-ap-southeast-1-484597657167/mxnet-training-2020-02-20-10-26-02-254/source/sourcedir.tar.gz\u001b[0m\n",
      "\u001b[34mSM_TRAINING_ENV={\"additional_framework_parameters\":{},\"channel_input_dirs\":{\"test\":\"/opt/ml/input/data/test\",\"train\":\"/opt/ml/input/data/train\"},\"current_host\":\"algo-1\",\"framework_module\":\"sagemaker_mxnet_container.training:main\",\"hosts\":[\"algo-1\"],\"hyperparameters\":{\"n_iter\":10},\"input_config_dir\":\"/opt/ml/input/config\",\"input_data_config\":{\"test\":{\"RecordWrapperType\":\"None\",\"S3DistributionType\":\"FullyReplicated\",\"TrainingInputMode\":\"File\"},\"train\":{\"RecordWrapperType\":\"None\",\"S3DistributionType\":\"FullyReplicated\",\"TrainingInputMode\":\"File\"}},\"input_dir\":\"/opt/ml/input\",\"is_master\":true,\"job_name\":\"mxnet-training-2020-02-20-10-26-02-254\",\"log_level\":20,\"master_hostname\":\"algo-1\",\"model_dir\":\"/opt/ml/model\",\"module_dir\":\"s3://sagemaker-ap-southeast-1-484597657167/mxnet-training-2020-02-20-10-26-02-254/source/sourcedir.tar.gz\",\"module_name\":\"spacy-train\",\"network_interface_name\":\"eth0\",\"num_cpus\":2,\"num_gpus\":0,\"output_data_dir\":\"/opt/ml/output/data\",\"output_dir\":\"/opt/ml/output\",\"output_intermediate_dir\":\"/opt/ml/output/intermediate\",\"resource_config\":{\"current_host\":\"algo-1\",\"hosts\":[\"algo-1\"],\"network_interface_name\":\"eth0\"},\"user_entry_point\":\"spacy-train.py\"}\u001b[0m\n",
      "\u001b[34mSM_USER_ARGS=[\"--n_iter\",\"10\"]\u001b[0m\n",
      "\u001b[34mSM_OUTPUT_INTERMEDIATE_DIR=/opt/ml/output/intermediate\u001b[0m\n",
      "\u001b[34mSM_CHANNEL_TEST=/opt/ml/input/data/test\u001b[0m\n",
      "\u001b[34mSM_CHANNEL_TRAIN=/opt/ml/input/data/train\u001b[0m\n",
      "\u001b[34mSM_HP_N_ITER=10\u001b[0m\n",
      "\u001b[34mPYTHONPATH=/opt/ml/code:/usr/local/bin:/usr/local/lib/python36.zip:/usr/local/lib/python3.6:/usr/local/lib/python3.6/lib-dynload:/usr/local/lib/python3.6/site-packages\n",
      "\u001b[0m\n",
      "\u001b[34mInvoking script with the following command:\n",
      "\u001b[0m\n",
      "\u001b[34m/usr/local/bin/python3.6 spacy-train.py --n_iter 10\n",
      "\n",
      "\u001b[0m\n",
      "\u001b[34mAuto-detected token-per-line NER format\u001b[0m\n",
      "\u001b[34mSentence boundaries found, automatic sentence segmentation with `-s` disabled.\u001b[0m\n",
      "\u001b[34mGrouping every 10 sentences into a document.\u001b[0m\n",
      "\u001b[34mGenerated output file (1 documents): /opt/ml/input/data/train/data.json\u001b[0m\n",
      "\u001b[34mAuto-detected token-per-line NER format\u001b[0m\n",
      "\u001b[34mSentence boundaries found, automatic sentence segmentation with `-s` disabled.\u001b[0m\n",
      "\u001b[34mGrouping every 10 sentences into a document.\u001b[0m\n",
      "\u001b[34mGenerated output file (1 documents): /opt/ml/input/data/test/data.json\u001b[0m\n",
      "\u001b[34mTraining pipeline: ['ner']\u001b[0m\n",
      "\u001b[34mStarting with blank model 'en'\u001b[0m\n",
      "\u001b[34mCounting training words (limit=0)\n",
      "\u001b[0m\n",
      "\u001b[34mItn  NER Loss   NER P   NER R   NER F   Token %  CPU WPS\u001b[0m\n",
      "\u001b[34m---  ---------  ------  ------  ------  -------  -------\u001b[0m\n",
      "\u001b[34m  1     94.786   0.000   0.000   0.000  100.000    15725\n",
      "  2    176.271   0.000   0.000   0.000  100.000    15760\u001b[0m\n",
      "\u001b[34m  3    175.984   0.000   0.000   0.000  100.000    15632\n",
      "  4    173.377   0.000   0.000   0.000  100.000    15773\u001b[0m\n",
      "\u001b[34m  5    169.530   0.000   0.000   0.000  100.000    15618\n",
      "  6    162.304   0.000   0.000   0.000  100.000    15439\n",
      "  7    152.076   0.000   0.000   0.000  100.000    15617\u001b[0m\n",
      "\u001b[34m  8    135.863   0.000   0.000   0.000  100.000    15685\n",
      "  9    117.048   0.000   0.000   0.000  100.000    15857\u001b[0m\n",
      "\u001b[34m 10     84.973   0.000   0.000   0.000  100.000    15662\u001b[0m\n",
      "\u001b[34mSaved model to output directory\u001b[0m\n",
      "\u001b[34m/opt/ml/model/model-final\u001b[0m\n",
      "\u001b[34mCreating best model...\u001b[0m\n",
      "\u001b[34mCreated best model\u001b[0m\n",
      "\u001b[34m/opt/ml/model/model-best\u001b[0m\n",
      "\u001b[34m#015  0%|          | 0/192 [00:00<?, ?it/s]#015                                       #015#015  0%|          | 0/192 [00:00<?, ?it/s]#015                                       #015#015  0%|          | 0/192 [00:00<?, ?it/s]#015                                       #015#015  0%|          | 0/192 [00:00<?, ?it/s]#015                                       #015#015  0%|          | 0/192 [00:00<?, ?it/s]#015                                       #015#015  0%|          | 0/192 [00:00<?, ?it/s]#015                                       #015#015  0%|          | 0/192 [00:00<?, ?it/s]#015                                       #015#015  0%|          | 0/192 [00:00<?, ?it/s]#015                                       #015#015  0%|          | 0/192 [00:00<?, ?it/s]#015                                       #015#015  0%|          | 0/192 [00:00<?, ?it/s]#015                                       #0152020-02-20 10:28:45,882 sagemaker-containers INFO     Reporting training SUCCESS\u001b[0m\n",
      "\n",
      "2020-02-20 10:29:01 Uploading - Uploading generated training model\n",
      "2020-02-20 10:29:01 Completed - Training job completed\n",
      "Training seconds: 72\n",
      "Billable seconds: 72\n"
     ]
    }
   ],
   "source": [
    "estimator.fit({'train': sagemaker.session.s3_input(train),\n",
    "               'test': sagemaker.session.s3_input(test)})"
   ]
  },
  {
   "cell_type": "code",
   "execution_count": null,
   "metadata": {},
   "outputs": [],
   "source": []
  }
 ],
 "metadata": {
  "kernelspec": {
   "display_name": "conda_python3",
   "language": "python",
   "name": "conda_python3"
  },
  "language_info": {
   "codemirror_mode": {
    "name": "ipython",
    "version": 3
   },
   "file_extension": ".py",
   "mimetype": "text/x-python",
   "name": "python",
   "nbconvert_exporter": "python",
   "pygments_lexer": "ipython3",
   "version": "3.6.5"
  }
 },
 "nbformat": 4,
 "nbformat_minor": 4
}
