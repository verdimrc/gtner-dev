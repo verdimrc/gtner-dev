{
 "cells": [
  {
   "cell_type": "markdown",
   "metadata": {},
   "source": [
    "<div style='font-size:250%; font-weight:bold'>Train NER with huggingface/transformers</div>\n",
    "\n",
    "This notebook shows how to train a new NER model with transfer learning, using the huggingface/transformers library on Amazon SageMaker."
   ]
  },
  {
   "cell_type": "code",
   "execution_count": null,
   "metadata": {},
   "outputs": [],
   "source": [
    "!pip install --upgrade s3fs"
   ]
  },
  {
   "cell_type": "code",
   "execution_count": 6,
   "metadata": {},
   "outputs": [
    {
     "name": "stdout",
     "output_type": "stream",
     "text": [
      "The autoreload extension is already loaded. To reload it, use:\n",
      "  %reload_ext autoreload\n"
     ]
    }
   ],
   "source": [
    "%matplotlib inline\n",
    "%config InlineBackend.figure_format = 'retina'\n",
    "%load_ext autoreload\n",
    "%autoreload 2\n",
    "\n",
    "import os\n",
    "import s3fs\n",
    "from gtner_blog.util import split, get_latest_version"
   ]
  },
  {
   "cell_type": "code",
   "execution_count": 4,
   "metadata": {},
   "outputs": [],
   "source": [
    "# A few standard SageMaker stanzas\n",
    "\n",
    "import sagemaker\n",
    "from sagemaker.pytorch import PyTorch\n",
    "\n",
    "role: str = sagemaker.get_execution_role()\n",
    "sess = sagemaker.Session()"
   ]
  },
  {
   "cell_type": "markdown",
   "metadata": {},
   "source": [
    "# Download `run_ner.py` script\n",
    "\n",
    "Download the PyTorch train script from the transformers repository. The `requirements.txt` specifies the latest stable version, published in pip, to be installed on training jobs. Thus, the NER train script should also come from matching version in the git repo."
   ]
  },
  {
   "cell_type": "code",
   "execution_count": 16,
   "metadata": {},
   "outputs": [
    {
     "name": "stdout",
     "output_type": "stream",
     "text": [
      "env: VERSION=2.5.0\n",
      "total 68\n",
      "drwxrwxr-x 3 ec2-user ec2-user  4096 Feb 21 02:49 .\n",
      "drwxrwxr-x 5 ec2-user ec2-user  4096 Feb 21 02:55 ..\n",
      "-rw-rw-r-- 1 ec2-user ec2-user    24 Feb 21 02:48 .gitignore\n",
      "drwxrwxr-x 2 ec2-user ec2-user  4096 Feb 21 02:15 .ipynb_checkpoints\n",
      "-rw-rw-r-- 1 ec2-user ec2-user    25 Feb 21 02:16 requirements.txt\n",
      "-rw-rw-r-- 1 ec2-user ec2-user 30349 Feb 21 02:55 \u001b[01;31m\u001b[Krun_ner.py\u001b[m\u001b[K\n",
      "-rw-rw-r-- 1 ec2-user ec2-user  3120 Feb 21 02:15 transformers-train.py\n",
      "-rw-rw-r-- 1 ec2-user ec2-user  8428 Feb 21 02:55 \u001b[01;31m\u001b[Kutils_ner.py\u001b[m\u001b[K\n"
     ]
    }
   ],
   "source": [
    "# Check the latest transformers version in pip.\n",
    "version = get_latest_version('transformers')\n",
    "%env VERSION=$version\n",
    "\n",
    "# Download run_ner.py\n",
    "!curl --silent --location \\\n",
    "    https://raw.githubusercontent.com/huggingface/transformers/v${VERSION}/examples/run_ner.py \\\n",
    "    > transformers-scripts/run_ner.py\n",
    "\n",
    "# Download utils_ner.py\n",
    "!curl --silent --location \\\n",
    "    https://raw.githubusercontent.com/huggingface/transformers/v${VERSION}/examples/utils_ner.py \\\n",
    "    > transformers-scripts/utils_ner.py\n",
    "\n",
    "!ls -al transformers-scripts/ | egrep --color=always 'run_ner.py|utils_ner.py|^'"
   ]
  },
  {
   "cell_type": "markdown",
   "metadata": {},
   "source": [
    "# Prepare data channels\n",
    "\n",
    "Split the whole corpus into train:test = 3:1 proportion, then upload the splits to S3."
   ]
  },
  {
   "cell_type": "code",
   "execution_count": 17,
   "metadata": {},
   "outputs": [
    {
     "data": {
      "text/plain": [
       "'s3://gtner-blog/gt/test-gtner-blog-004/manifests/output/output.iob'"
      ]
     },
     "metadata": {},
     "output_type": "display_data"
    },
    {
     "data": {
      "text/plain": [
       "'s3://gtner-blog/transformers-data/train'"
      ]
     },
     "metadata": {},
     "output_type": "display_data"
    },
    {
     "data": {
      "text/plain": [
       "'s3://gtner-blog/transformers-data/test'"
      ]
     },
     "metadata": {},
     "output_type": "display_data"
    }
   ],
   "source": [
    "bucket = 'gtner-blog'                # Change me as necessary\n",
    "gt_jobname = 'test-gtner-blog-004'   # Change me as necessary\n",
    "\n",
    "iob_file = f's3://{bucket}/gt/{gt_jobname}/manifests/output/output.iob'\n",
    "train = f's3://{bucket}/transformers-data/train'\n",
    "test = f's3://{bucket}/transformers-data/test'\n",
    "split(iob_file,\n",
    "      os.path.join(train, 'data.iob'),\n",
    "      os.path.join(test, 'data.iob'))\n",
    "\n",
    "display(iob_file, train, test)"
   ]
  },
  {
   "cell_type": "markdown",
   "metadata": {},
   "source": [
    "# Start training"
   ]
  },
  {
   "cell_type": "code",
   "execution_count": null,
   "metadata": {},
   "outputs": [],
   "source": [
    "# NOTES: see run_ner.py for more hyperparameters. Do note that transformers-train.py forbids you\n",
    "# to set these hyperparameters: {...}.\n",
    "estimator = PyTorch(entry_point='transformers-train.py',\n",
    "                    source_dir='./transformers-scripts',\n",
    "                    role=role,\n",
    "                    train_instance_count=1,\n",
    "                    train_instance_type='ml.m5.large',\n",
    "                    framework_version='1.3.1',\n",
    "                    py_version='py3',\n",
    "                    sagemaker_session=sess,\n",
    "                    debugger_hook_config=False,\n",
    "                    hyperparameters={'num_train_epochs': 10.0})"
   ]
  },
  {
   "cell_type": "code",
   "execution_count": null,
   "metadata": {},
   "outputs": [],
   "source": [
    "estimator.fit({'train': sagemaker.session.s3_input(train),\n",
    "               'test': sagemaker.session.s3_input(test)})"
   ]
  },
  {
   "cell_type": "code",
   "execution_count": null,
   "metadata": {},
   "outputs": [],
   "source": []
  },
  {
   "cell_type": "code",
   "execution_count": null,
   "metadata": {},
   "outputs": [],
   "source": []
  }
 ],
 "metadata": {
  "kernelspec": {
   "display_name": "conda_python3",
   "language": "python",
   "name": "conda_python3"
  },
  "language_info": {
   "codemirror_mode": {
    "name": "ipython",
    "version": 3
   },
   "file_extension": ".py",
   "mimetype": "text/x-python",
   "name": "python",
   "nbconvert_exporter": "python",
   "pygments_lexer": "ipython3",
   "version": "3.6.5"
  }
 },
 "nbformat": 4,
 "nbformat_minor": 4
}
